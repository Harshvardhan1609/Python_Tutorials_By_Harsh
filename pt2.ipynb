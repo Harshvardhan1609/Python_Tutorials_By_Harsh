{
 "cells": [
  {
   "cell_type": "code",
   "execution_count": 1,
   "metadata": {},
   "outputs": [
    {
     "name": "stdout",
     "output_type": "stream",
     "text": [
      "radhe radhe\n"
     ]
    }
   ],
   "source": [
    "print(\"radhe radhe\")"
   ]
  },
  {
   "cell_type": "code",
   "execution_count": 2,
   "metadata": {},
   "outputs": [
    {
     "name": "stdout",
     "output_type": "stream",
     "text": [
      "2 is 2\n"
     ]
    }
   ],
   "source": [
    "a = 2\n",
    "if(a==2):\n",
    "    print(f'{a} is 2')\n",
    "else:\n",
    "    print(f'{a} is not 2')"
   ]
  },
  {
   "cell_type": "code",
   "execution_count": 3,
   "metadata": {},
   "outputs": [
    {
     "name": "stdout",
     "output_type": "stream",
     "text": [
      "b is lesser\n"
     ]
    }
   ],
   "source": [
    "b = int(input(\"Please enter a number : \"))\n",
    "if(b==1):\n",
    "    print('b is 1')\n",
    "elif(b<10 and b!=1):\n",
    "    print('b is lesser')\n",
    "else:\n",
    "    print('b is greater')\n"
   ]
  },
  {
   "cell_type": "markdown",
   "metadata": {},
   "source": [
    "### JUMANJI GAME"
   ]
  },
  {
   "cell_type": "code",
   "execution_count": 7,
   "metadata": {},
   "outputs": [
    {
     "name": "stdout",
     "output_type": "stream",
     "text": [
      "Reached destination !! Game Won\n"
     ]
    }
   ],
   "source": [
    "a = input(\"Left or right : \").lower()\n",
    "if(a == 'right'):\n",
    "    b = input(\"Will you go with the bus or car : \").lower()\n",
    "    if(b=='car'):\n",
    "        print(\"Game over !! Accident\")\n",
    "    elif(b=='bus'):\n",
    "        print(\"Game won !! Reached the destination\")\n",
    "    else:\n",
    "        print(\"Invalid command !! restart again\")\n",
    "elif(a == 'left'):\n",
    "    b = input(\"Wil you go by walking or running : \").lower()\n",
    "    if(b=='walking'):\n",
    "        print(\"Reached destination !! Game Won\")\n",
    "    elif(b=='running'):\n",
    "        print(\"Game over !! Fall from the vally\")\n",
    "else:\n",
    "    print(\"Invalid command restart with the valid commands !\")"
   ]
  },
  {
   "cell_type": "markdown",
   "metadata": {},
   "source": [
    "### Loops in python"
   ]
  },
  {
   "cell_type": "markdown",
   "metadata": {},
   "source": [
    "while loop"
   ]
  },
  {
   "cell_type": "code",
   "execution_count": 1,
   "metadata": {},
   "outputs": [
    {
     "name": "stdout",
     "output_type": "stream",
     "text": [
      "harsh harsh harsh harsh harsh harsh harsh harsh harsh harsh "
     ]
    }
   ],
   "source": [
    "a = 0\n",
    "while(a<10):\n",
    "    print(\"harsh\",end=\" \")\n",
    "    a=a+1\n",
    "    # a+=a  -> a=a+a"
   ]
  },
  {
   "cell_type": "markdown",
   "metadata": {},
   "source": [
    "for loop"
   ]
  },
  {
   "cell_type": "code",
   "execution_count": 3,
   "metadata": {},
   "outputs": [
    {
     "name": "stdout",
     "output_type": "stream",
     "text": [
      "harsh joshi\n",
      "harsh vyas\n",
      "harsh butani\n",
      "harsh baniwal\n",
      "harsh purohit\n"
     ]
    }
   ],
   "source": [
    "list = ['joshi' , 'vyas' , 'butani' , 'baniwal' ,'purohit']\n",
    "for i in list:\n",
    "    print(\"harsh\" +\" \"+ i)"
   ]
  },
  {
   "cell_type": "code",
   "execution_count": 4,
   "metadata": {},
   "outputs": [
    {
     "name": "stdout",
     "output_type": "stream",
     "text": [
      "0\n",
      "1\n",
      "2\n",
      "3\n",
      "4\n",
      "5\n",
      "6\n",
      "7\n",
      "8\n",
      "9\n"
     ]
    }
   ],
   "source": [
    "for i in range(0,10):\n",
    "    print(i)"
   ]
  },
  {
   "cell_type": "markdown",
   "metadata": {},
   "source": [
    "tuples "
   ]
  },
  {
   "cell_type": "code",
   "execution_count": 5,
   "metadata": {},
   "outputs": [
    {
     "name": "stdout",
     "output_type": "stream",
     "text": [
      "<class 'str'>\n",
      "<class 'int'>\n",
      "<class 'float'>\n",
      "<class 'bool'>\n",
      "<class 'complex'>\n",
      "<class 'str'>\n",
      "<class 'int'>\n",
      "<class 'int'>\n",
      "<class 'bool'>\n"
     ]
    }
   ],
   "source": [
    "tu = ('harsh' , 12 , 12.5 , True , 3+1j)\n",
    "for i in tu:\n",
    "    print(type(i))\n",
    "list = ['harsh',123,12,True]\n",
    "for i in list:\n",
    "    print(type(i))"
   ]
  },
  {
   "cell_type": "code",
   "execution_count": 6,
   "metadata": {},
   "outputs": [
    {
     "data": {
      "text/plain": [
       "['harsh', 123, 'Harsh', True]"
      ]
     },
     "execution_count": 6,
     "metadata": {},
     "output_type": "execute_result"
    }
   ],
   "source": [
    "list[2] = 'Harsh'\n",
    "list"
   ]
  },
  {
   "cell_type": "code",
   "execution_count": 7,
   "metadata": {},
   "outputs": [
    {
     "ename": "TypeError",
     "evalue": "'tuple' object does not support item assignment",
     "output_type": "error",
     "traceback": [
      "\u001b[1;31m---------------------------------------------------------------------------\u001b[0m",
      "\u001b[1;31mTypeError\u001b[0m                                 Traceback (most recent call last)",
      "\u001b[1;32me:\\PYTHON TUTORIALS\\pt 2\\pt2.ipynb Cell 15'\u001b[0m in \u001b[0;36m<cell line: 1>\u001b[1;34m()\u001b[0m\n\u001b[1;32m----> <a href='vscode-notebook-cell:/e%3A/PYTHON%20TUTORIALS/pt%202/pt2.ipynb#ch0000014?line=0'>1</a>\u001b[0m tu[\u001b[39m1\u001b[39m] \u001b[39m=\u001b[39m \u001b[39m12\u001b[39m\n\u001b[0;32m      <a href='vscode-notebook-cell:/e%3A/PYTHON%20TUTORIALS/pt%202/pt2.ipynb#ch0000014?line=1'>2</a>\u001b[0m tu\n",
      "\u001b[1;31mTypeError\u001b[0m: 'tuple' object does not support item assignment"
     ]
    }
   ],
   "source": [
    "tu[1] = 12\n",
    "tu"
   ]
  },
  {
   "cell_type": "code",
   "execution_count": 9,
   "metadata": {},
   "outputs": [
    {
     "name": "stdout",
     "output_type": "stream",
     "text": [
      "([1, 2, 4], (1, 2, 34), True, 12)\n",
      "([1, 2, 5], (1, 2, 34), True, 12)\n"
     ]
    }
   ],
   "source": [
    "tu2 = ([1,2,4],(1,2,34),True,12)\n",
    "print(tu2)\n",
    "tu2[0][2] = 5\n",
    "print(tu2)"
   ]
  },
  {
   "cell_type": "markdown",
   "metadata": {},
   "source": [
    "tuple unpacking"
   ]
  },
  {
   "cell_type": "code",
   "execution_count": 10,
   "metadata": {},
   "outputs": [
    {
     "data": {
      "text/plain": [
       "([1, 2, 5], (1, 2, 34), True, 12)"
      ]
     },
     "execution_count": 10,
     "metadata": {},
     "output_type": "execute_result"
    }
   ],
   "source": [
    "tu2"
   ]
  },
  {
   "cell_type": "code",
   "execution_count": 11,
   "metadata": {},
   "outputs": [
    {
     "name": "stdout",
     "output_type": "stream",
     "text": [
      "[1, 2, 5]\n",
      "(1, 2, 34)\n",
      "True\n",
      "12\n"
     ]
    }
   ],
   "source": [
    "a , b , c ,d  = tu2\n",
    "print(a)\n",
    "print(b)\n",
    "print(c)\n",
    "print(d)"
   ]
  },
  {
   "cell_type": "code",
   "execution_count": 12,
   "metadata": {},
   "outputs": [
    {
     "data": {
      "text/plain": [
       "12"
      ]
     },
     "execution_count": 12,
     "metadata": {},
     "output_type": "execute_result"
    }
   ],
   "source": [
    "tu[1]"
   ]
  },
  {
   "cell_type": "code",
   "execution_count": 13,
   "metadata": {},
   "outputs": [
    {
     "data": {
      "text/plain": [
       "('harsh', 12, 12.5, True, (3+1j))"
      ]
     },
     "execution_count": 13,
     "metadata": {},
     "output_type": "execute_result"
    }
   ],
   "source": [
    "tu"
   ]
  },
  {
   "cell_type": "code",
   "execution_count": 14,
   "metadata": {},
   "outputs": [
    {
     "data": {
      "text/plain": [
       "(12, 12.5)"
      ]
     },
     "execution_count": 14,
     "metadata": {},
     "output_type": "execute_result"
    }
   ],
   "source": [
    "tu[1:3]"
   ]
  },
  {
   "cell_type": "code",
   "execution_count": 15,
   "metadata": {},
   "outputs": [
    {
     "data": {
      "text/plain": [
       "('harsh', 12, 12.5, True, (3+1j))"
      ]
     },
     "execution_count": 15,
     "metadata": {},
     "output_type": "execute_result"
    }
   ],
   "source": [
    "tu[:]"
   ]
  },
  {
   "cell_type": "code",
   "execution_count": 16,
   "metadata": {},
   "outputs": [
    {
     "data": {
      "text/plain": [
       "('harsh', 12)"
      ]
     },
     "execution_count": 16,
     "metadata": {},
     "output_type": "execute_result"
    }
   ],
   "source": [
    "tu[:2]"
   ]
  },
  {
   "cell_type": "code",
   "execution_count": 17,
   "metadata": {},
   "outputs": [
    {
     "data": {
      "text/plain": [
       "(12.5, True, (3+1j))"
      ]
     },
     "execution_count": 17,
     "metadata": {},
     "output_type": "execute_result"
    }
   ],
   "source": [
    "tu[2:]"
   ]
  },
  {
   "cell_type": "markdown",
   "metadata": {},
   "source": [
    "### Function"
   ]
  },
  {
   "cell_type": "code",
   "execution_count": 18,
   "metadata": {},
   "outputs": [],
   "source": [
    "# def function_name :\n",
    "#     function working\n",
    "#         return "
   ]
  },
  {
   "cell_type": "code",
   "execution_count": 19,
   "metadata": {},
   "outputs": [],
   "source": [
    "def greet(n):\n",
    "    a = 'radhe radhe !! ' + \" \" + n\n",
    "    return a\n"
   ]
  },
  {
   "cell_type": "code",
   "execution_count": 20,
   "metadata": {},
   "outputs": [
    {
     "data": {
      "text/plain": [
       "'radhe radhe !!  harsh'"
      ]
     },
     "execution_count": 20,
     "metadata": {},
     "output_type": "execute_result"
    }
   ],
   "source": [
    "greet('harsh')"
   ]
  },
  {
   "cell_type": "markdown",
   "metadata": {},
   "source": [
    "Recursive ness "
   ]
  },
  {
   "cell_type": "markdown",
   "metadata": {},
   "source": [
    "factorial"
   ]
  },
  {
   "cell_type": "code",
   "execution_count": 21,
   "metadata": {},
   "outputs": [],
   "source": [
    "def fact(n):\n",
    "    if(n==1 or n==0):\n",
    "        return 1\n",
    "    else:\n",
    "        return n*fact(n-1)"
   ]
  },
  {
   "cell_type": "code",
   "execution_count": 23,
   "metadata": {},
   "outputs": [
    {
     "data": {
      "text/plain": [
       "120"
      ]
     },
     "execution_count": 23,
     "metadata": {},
     "output_type": "execute_result"
    }
   ],
   "source": [
    "fact(5)"
   ]
  },
  {
   "cell_type": "markdown",
   "metadata": {},
   "source": [
    "### PROject 1 : calculate sum of n numbers by using recursion 🤘🤘"
   ]
  },
  {
   "cell_type": "code",
   "execution_count": 24,
   "metadata": {},
   "outputs": [],
   "source": [
    "def su(n):\n",
    "    if(n==1):\n",
    "        return 1\n",
    "    else:\n",
    "        return n+su(n-1)"
   ]
  },
  {
   "cell_type": "code",
   "execution_count": 25,
   "metadata": {},
   "outputs": [
    {
     "data": {
      "text/plain": [
       "21"
      ]
     },
     "execution_count": 25,
     "metadata": {},
     "output_type": "execute_result"
    }
   ],
   "source": [
    "su(6)"
   ]
  },
  {
   "cell_type": "markdown",
   "metadata": {},
   "source": [
    "### Matrix multiplication and addition"
   ]
  },
  {
   "cell_type": "code",
   "execution_count": 41,
   "metadata": {},
   "outputs": [],
   "source": [
    "R = int(input(\"Please enter the rows of 1st matrix : \"))\n",
    "C = int(input(\"Please enter the columns of 1st matrix : \"))\n",
    "matrix1 = []\n",
    "for i in range(0,R):\n",
    "    a= []\n",
    "    for j in range(0,C):\n",
    "        b = int(input(\"\"))\n",
    "        a.append(b)\n",
    "    matrix1.append(a)\n",
    "\n"
   ]
  },
  {
   "cell_type": "code",
   "execution_count": 42,
   "metadata": {},
   "outputs": [
    {
     "name": "stdout",
     "output_type": "stream",
     "text": [
      "22 \n",
      "22 \n"
     ]
    }
   ],
   "source": [
    "for i in range(0,R):\n",
    "    for J in range(0,C):\n",
    "        print(matrix1[i][j],end=\"\")\n",
    "    print(\" \")"
   ]
  },
  {
   "cell_type": "code",
   "execution_count": 43,
   "metadata": {},
   "outputs": [],
   "source": [
    "M = int(input(\"Please enter the rows of 2nd matrix : \"))\n",
    "N = int(input(\"Please enter the columns of 2nd matrix : \"))\n",
    "matrix2 = []\n",
    "for i in range(0,M):\n",
    "    a= []\n",
    "    for j in range(0,N):\n",
    "        b = int(input(\"\"))\n",
    "        a.append(b)\n",
    "    matrix2.append(a)"
   ]
  },
  {
   "cell_type": "code",
   "execution_count": 44,
   "metadata": {},
   "outputs": [
    {
     "name": "stdout",
     "output_type": "stream",
     "text": [
      "22 \n",
      "22 \n"
     ]
    }
   ],
   "source": [
    "for i in range(0,R):\n",
    "    for J in range(0,C):\n",
    "        print(matrix2[i][j],end=\"\")\n",
    "    print(\" \")"
   ]
  },
  {
   "cell_type": "code",
   "execution_count": 45,
   "metadata": {},
   "outputs": [],
   "source": [
    "result = []\n",
    "for i in range(0,R):\n",
    "    a= []\n",
    "    for j in range(0,N):\n",
    "        a.append(0)\n",
    "    result.append(a)"
   ]
  },
  {
   "cell_type": "code",
   "execution_count": 36,
   "metadata": {},
   "outputs": [],
   "source": [
    "for i in range(0,R):\n",
    "    for j in range(0,N):\n",
    "        result[i][j] = matrix1[i][j] + matrix2[i][j]"
   ]
  },
  {
   "cell_type": "code",
   "execution_count": 38,
   "metadata": {},
   "outputs": [
    {
     "name": "stdout",
     "output_type": "stream",
     "text": [
      "4 4  \n",
      "4 4  \n"
     ]
    }
   ],
   "source": [
    "for i in range(0,R):\n",
    "    for j in range(0,N):\n",
    "       print(result[i][j] , end=\" \")\n",
    "    print(\" \")"
   ]
  },
  {
   "cell_type": "code",
   "execution_count": 46,
   "metadata": {},
   "outputs": [],
   "source": [
    "for i in range(0,R):\n",
    "    for j in range(0,N):\n",
    "        for k in range(0,N):\n",
    "            result[i][j] += matrix1[i][j]*matrix2[i][j]"
   ]
  },
  {
   "cell_type": "code",
   "execution_count": 47,
   "metadata": {},
   "outputs": [
    {
     "name": "stdout",
     "output_type": "stream",
     "text": [
      "8 8  \n",
      "8 8  \n"
     ]
    }
   ],
   "source": [
    "for i in range(0,R):\n",
    "    for j in range(0,N):\n",
    "       print(result[i][j] , end=\" \")\n",
    "    print(\" \")"
   ]
  },
  {
   "cell_type": "markdown",
   "metadata": {},
   "source": [
    "### Liner and Binary Search"
   ]
  },
  {
   "cell_type": "code",
   "execution_count": 66,
   "metadata": {},
   "outputs": [],
   "source": [
    "def linear_search(list1, length_n, searching_element):\n",
    "    for i in range(0,length_n):\n",
    "        if(list1[i] == searching_element):\n",
    "            return 1\n",
    "    return -1"
   ]
  },
  {
   "cell_type": "code",
   "execution_count": 68,
   "metadata": {},
   "outputs": [
    {
     "name": "stdout",
     "output_type": "stream",
     "text": [
      "Element found \n"
     ]
    }
   ],
   "source": [
    "list1 = [1,2,3,2,4]\n",
    "key = 2\n",
    "list_length = len(list1)\n",
    "a = linear_search(list1,list_length-1,key)\n",
    "if(a==1):\n",
    "    print(\"Element found \")\n",
    "else:\n",
    "    print(\"Element not found\")"
   ]
  },
  {
   "cell_type": "markdown",
   "metadata": {},
   "source": [
    "Binary Searching"
   ]
  },
  {
   "cell_type": "code",
   "execution_count": 121,
   "metadata": {},
   "outputs": [],
   "source": [
    "def Binary_Search(list100, value):\n",
    "    low = 0\n",
    "    high = len(list100)-1\n",
    "    mid = 0\n",
    "    while(low<=high):\n",
    "        mid = (low+high)//2\n",
    "        if(list1[mid]>value):\n",
    "            high = mid-1\n",
    "        elif(list1[mid]<value):\n",
    "            low = mid+1\n",
    "        else:\n",
    "            return mid\n",
    "    return  -1\n",
    "\n"
   ]
  },
  {
   "cell_type": "code",
   "execution_count": 123,
   "metadata": {},
   "outputs": [
    {
     "name": "stdout",
     "output_type": "stream",
     "text": [
      "Element  found \n"
     ]
    }
   ],
   "source": [
    "list2 = [1,2,3,4,5]\n",
    "a = Binary_Search(list2,2)\n",
    "if(a!=-1):\n",
    "    print(\"Element  found \")\n",
    "else:\n",
    "    print(\"Element not found\")"
   ]
  },
  {
   "cell_type": "code",
   "execution_count": null,
   "metadata": {},
   "outputs": [],
   "source": []
  }
 ],
 "metadata": {
  "interpreter": {
   "hash": "27772c5009be340846e0eaede3458c9d20dfcb888f5ac91fbfa8a2969923dd46"
  },
  "kernelspec": {
   "display_name": "Python 3.10.4 64-bit",
   "language": "python",
   "name": "python3"
  },
  "language_info": {
   "codemirror_mode": {
    "name": "ipython",
    "version": 3
   },
   "file_extension": ".py",
   "mimetype": "text/x-python",
   "name": "python",
   "nbconvert_exporter": "python",
   "pygments_lexer": "ipython3",
   "version": "3.10.4"
  },
  "orig_nbformat": 4
 },
 "nbformat": 4,
 "nbformat_minor": 2
}
